{
 "cells": [
  {
   "cell_type": "code",
   "execution_count": 1,
   "id": "6ca9c441",
   "metadata": {},
   "outputs": [
    {
     "data": {
      "text/plain": [
       "{'[1,1,1]': 0.0, '[2,2,2]': 0.0, '[3,3,3]': 1.0}"
      ]
     },
     "execution_count": 1,
     "metadata": {},
     "output_type": "execute_result"
    }
   ],
   "source": [
    "#############################################################################\n",
    "########################### SET TRUE COORDINATES ############################\n",
    "#############################################################################\n",
    "\n",
    "import numpy as np\n",
    "from scipy.special import softmax\n",
    "\n",
    "# hyperparameters\n",
    "no_puzzlepieces = 3\n",
    "std = 0.1  \n",
    "coord = ['[1,1,1]', '[2,2,2]', '[3,3,3]']\n",
    " \n",
    "# set all coordinate probabilities to zero\n",
    "coordinate_p_gold = {}\n",
    "for i in range(no_puzzlepieces):\n",
    "    coordinate_p_gold[coord[i]] = 0.0\n",
    "\n",
    "# determine gold_label (determine one coordinate to have a probability of 1)\n",
    "import random\n",
    "i = random.randint(0,no_puzzlepieces)\n",
    "coordinate_p_gold[coord[i]] = 1.0\n",
    "\n",
    "# show all probabilities\n",
    "coordinate_p_gold"
   ]
  },
  {
   "cell_type": "code",
   "execution_count": 2,
   "id": "055d4c42",
   "metadata": {},
   "outputs": [
    {
     "data": {
      "text/plain": [
       "{'[1,1,1]': array([-0.0329228]),\n",
       " '[2,2,2]': array([0.08246073]),\n",
       " '[3,3,3]': array([0.99853805])}"
      ]
     },
     "execution_count": 2,
     "metadata": {},
     "output_type": "execute_result"
    }
   ],
   "source": [
    "#############################################################################\n",
    "##################### ADD NORMALLY DISTRIBUTED NOISE ########################\n",
    "#############################################################################\n",
    "\n",
    "coordinate_p_noise = {}\n",
    "for i in range(no_puzzlepieces):\n",
    "    # draw predicted coordinate-probabilities from normal distribution with \n",
    "        # - mean = coordinate_p_gold\n",
    "        # - variance = hyperparameter reflecting the noise we want to add for previous groups models\n",
    "    coordinate_p_noise[coord[i]] = np.random.normal(scale = std, loc = coordinate_p_gold[coord[i]], size = 1)\n",
    "\n",
    "coordinate_p_noise\n"
   ]
  },
  {
   "cell_type": "code",
   "execution_count": 3,
   "id": "0abb98f4",
   "metadata": {},
   "outputs": [
    {
     "name": "stdout",
     "output_type": "stream",
     "text": [
      "[array([-0.0329228]), array([0.08246073]), array([0.99853805])]\n"
     ]
    },
    {
     "data": {
      "text/plain": [
       "{'[1,1,1]': array([0.03141261]),\n",
       " '[2,2,2]': array([0.0786782]),\n",
       " '[3,3,3]': array([0.95273441])}"
      ]
     },
     "execution_count": 3,
     "metadata": {},
     "output_type": "execute_result"
    }
   ],
   "source": [
    "#############################################################################\n",
    "############# SQUASH NOICES PROBABILITIES TO SUM UP TO 1 ####################\n",
    "#############################################################################\n",
    "\n",
    "aux_arr =[]\n",
    "for i in range(no_puzzlepieces):\n",
    "    aux_arr.append(coordinate_p_noise[coord[i]])\n",
    "print(aux_arr)\n",
    "\n",
    "\n",
    "coordinate_p_pred = {}\n",
    "for i in range(no_puzzlepieces):\n",
    "    coordinate_p_pred[coord[i]] = abs(coordinate_p_noise[coord[i]])/sum(aux_arr)\n",
    "coordinate_p_pred\n",
    "\n",
    "#softmax(aux_arr)\n"
   ]
  },
  {
   "cell_type": "code",
   "execution_count": null,
   "id": "2afe4f52",
   "metadata": {},
   "outputs": [],
   "source": []
  },
  {
   "cell_type": "code",
   "execution_count": null,
   "id": "da7d39df",
   "metadata": {},
   "outputs": [],
   "source": []
  }
 ],
 "metadata": {
  "kernelspec": {
   "display_name": "Python 3",
   "language": "python",
   "name": "python3"
  },
  "language_info": {
   "codemirror_mode": {
    "name": "ipython",
    "version": 3
   },
   "file_extension": ".py",
   "mimetype": "text/x-python",
   "name": "python",
   "nbconvert_exporter": "python",
   "pygments_lexer": "ipython3",
   "version": "3.8.8"
  }
 },
 "nbformat": 4,
 "nbformat_minor": 5
}
